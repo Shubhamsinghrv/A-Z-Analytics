{
 "cells": [
  {
   "cell_type": "code",
   "execution_count": 7,
   "id": "9f7e4832-3064-487c-96a6-706a2ec2782d",
   "metadata": {
    "tags": []
   },
   "outputs": [
    {
     "data": {
      "application/vnd.jupyter.widget-view+json": {
       "model_id": "17a15645f5e0441f8a475059877e0abd",
       "version_major": 2,
       "version_minor": 0
      },
      "text/plain": [
       "SelectMultiple(description='Columns:', layout=Layout(width='max-content'), options=('source_file', 'enrollee_i…"
      ]
     },
     "metadata": {},
     "output_type": "display_data"
    },
    {
     "data": {
      "application/vnd.jupyter.widget-view+json": {
       "model_id": "357b6a432ea740dcb75c094fde6b2436",
       "version_major": 2,
       "version_minor": 0
      },
      "text/plain": [
       "Dropdown(description='Join Type:', options=('inner', 'left', 'right', 'outer'), value='inner')"
      ]
     },
     "metadata": {},
     "output_type": "display_data"
    },
    {
     "data": {
      "application/vnd.jupyter.widget-view+json": {
       "model_id": "07d3cb0104cf45e18dc6bd3444cffa1a",
       "version_major": 2,
       "version_minor": 0
      },
      "text/plain": [
       "Button(description='Merge Files', style=ButtonStyle())"
      ]
     },
     "metadata": {},
     "output_type": "display_data"
    },
    {
     "data": {
      "application/vnd.jupyter.widget-view+json": {
       "model_id": "7686654551bd40bd8def88a78aa42058",
       "version_major": 2,
       "version_minor": 0
      },
      "text/plain": [
       "Output()"
      ]
     },
     "metadata": {},
     "output_type": "display_data"
    }
   ],
   "source": [
    "import pandas as pd\n",
    "from google.cloud import storage\n",
    "import ipywidgets as widgets\n",
    "from IPython.display import display, clear_output\n",
    "\n",
    "# Google Cloud Storage setup\n",
    "bucket_name = \"intelli-ana-bucket\"\n",
    "storage_client = storage.Client()\n",
    "bucket = storage_client.bucket(bucket_name)\n",
    "\n",
    "# List all CSV files\n",
    "blobs = bucket.list_blobs()\n",
    "csv_files = [blob.name for blob in blobs if blob.name.endswith(\".csv\")]\n",
    "\n",
    "# Read all CSVs into DataFrames\n",
    "dfs = []\n",
    "for file in csv_files:\n",
    "    blob = bucket.blob(file)\n",
    "    data = blob.download_as_bytes()\n",
    "    df = pd.read_csv(io.BytesIO(data))\n",
    "    df[\"source_file\"] = file  # Track file name\n",
    "    dfs.append(df)\n",
    "\n",
    "# Find common columns dynamically\n",
    "def find_common_columns(df_list):\n",
    "    column_sets = [set(df.columns) for df in df_list]\n",
    "    return list(set.intersection(*column_sets))\n",
    "\n",
    "common_columns = find_common_columns(dfs)\n",
    "\n",
    "# Dropdown for column selection\n",
    "col_selector = widgets.SelectMultiple(\n",
    "    options=common_columns,\n",
    "    description=\"Columns:\",\n",
    "    layout={'width': 'max-content'}\n",
    ")\n",
    "\n",
    "# Dropdown for join type\n",
    "join_type_selector = widgets.Dropdown(\n",
    "    options=[\"inner\", \"left\", \"right\", \"outer\"],\n",
    "    value=\"inner\",\n",
    "    description=\"Join Type:\"\n",
    ")\n",
    "\n",
    "# Button to trigger merging\n",
    "merge_button = widgets.Button(description=\"Merge Files\")\n",
    "output_area = widgets.Output()\n",
    "\n",
    "def merge_files(button):\n",
    "    with output_area:\n",
    "        clear_output(wait=True)\n",
    "        selected_columns = list(col_selector.value)\n",
    "        join_type = join_type_selector.value  # Get user-selected join type\n",
    "        \n",
    "        if selected_columns:\n",
    "            print(f\"\\n🔄 Performing **{join_type.upper()}** join on: {selected_columns}\")\n",
    "\n",
    "            # Ensure selected columns are of the same type\n",
    "            for df in dfs:\n",
    "                for col in selected_columns:\n",
    "                    if col in df.columns:\n",
    "                        df[col] = df[col].astype(str).str.strip()\n",
    "\n",
    "            # Merge DataFrames\n",
    "            merged_df = dfs[0]\n",
    "            for df in dfs[1:]:\n",
    "                merged_df = pd.merge(merged_df, df, on=selected_columns, how=join_type)\n",
    "\n",
    "            print(\"\\n📊 Shape of Merged DataFrame:\", merged_df.shape)\n",
    "\n",
    "            # Save if merge is successful\n",
    "            if not merged_df.empty:\n",
    "                output_filename = f\"merged_output_{join_type}.csv\"\n",
    "                output_blob = bucket.blob(output_filename)\n",
    "                output_blob.upload_from_string(merged_df.to_csv(index=False), content_type=\"text/csv\")\n",
    "                print(f\"\\n✅ Merged file saved at gs://{bucket_name}/{output_filename}\")\n",
    "            else:\n",
    "                print(\"\\n⚠️ Merge resulted in an empty DataFrame. Check selected columns.\")\n",
    "        else:\n",
    "            print(\"\\n⚠️ No valid column selections made. Operation aborted.\")\n",
    "\n",
    "# Display UI\n",
    "display(col_selector, join_type_selector, merge_button, output_area)\n",
    "merge_button.on_click(merge_files)\n"
   ]
  },
  {
   "cell_type": "code",
   "execution_count": null,
   "id": "24cd8034-b79e-4f12-8196-4c14648ad44e",
   "metadata": {},
   "outputs": [],
   "source": []
  }
 ],
 "metadata": {
  "environment": {
   "kernel": "conda-base-py",
   "name": "workbench-notebooks.m128",
   "type": "gcloud",
   "uri": "us-docker.pkg.dev/deeplearning-platform-release/gcr.io/workbench-notebooks:m128"
  },
  "kernelspec": {
   "display_name": "Python 3 (ipykernel) (Local)",
   "language": "python",
   "name": "conda-base-py"
  },
  "language_info": {
   "codemirror_mode": {
    "name": "ipython",
    "version": 3
   },
   "file_extension": ".py",
   "mimetype": "text/x-python",
   "name": "python",
   "nbconvert_exporter": "python",
   "pygments_lexer": "ipython3",
   "version": "3.10.16"
  }
 },
 "nbformat": 4,
 "nbformat_minor": 5
}
