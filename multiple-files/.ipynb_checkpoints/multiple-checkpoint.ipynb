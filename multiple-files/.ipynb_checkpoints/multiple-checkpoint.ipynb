{
 "cells": [
  {
   "cell_type": "code",
   "execution_count": 2,
   "id": "758e83ba-24ff-4c50-9f16-e9db82ac7383",
   "metadata": {
    "tags": []
   },
   "outputs": [
    {
     "name": "stdout",
     "output_type": "stream",
     "text": [
      "Not enough CSV files to merge.\n"
     ]
    }
   ],
   "source": [
    "import pandas as pd\n",
    "from google.cloud import storage\n",
    "import io\n",
    "\n",
    "# Set up Google Cloud Storage client\n",
    "bucket_name = \"intelli-ana-bucket\"\n",
    "storage_client = storage.Client()\n",
    "bucket = storage_client.bucket(bucket_name)\n",
    "\n",
    "# List all CSV files in the GCS bucket\n",
    "blobs = bucket.list_blobs()\n",
    "csv_files = [blob.name for blob in blobs if blob.name.endswith(\".csv\")]\n",
    "\n",
    "# Read all CSVs into DataFrames\n",
    "dfs = []\n",
    "for file in csv_files:\n",
    "    blob = bucket.blob(file)\n",
    "    data = blob.download_as_bytes()\n",
    "    df = pd.read_csv(io.BytesIO(data))\n",
    "    df[\"source_file\"] = file  # Add filename as a column for tracking\n",
    "    dfs.append(df)\n",
    "\n",
    "# Function to find common columns dynamically\n",
    "def find_common_columns(df_list):\n",
    "    column_sets = [set(df.columns) for df in df_list]\n",
    "    common_cols = set.intersection(*column_sets)  # Find intersection of all column sets\n",
    "    return common_cols if common_cols else None\n",
    "\n",
    "# Merge only if common columns exist\n",
    "if len(dfs) > 1:\n",
    "    common_columns = find_common_columns(dfs)\n",
    "    \n",
    "    if common_columns:\n",
    "        merged_df = dfs[0]\n",
    "        for df in dfs[1:]:\n",
    "            merged_df = pd.merge(merged_df, df, on=list(common_columns), how=\"inner\")  # Join on common columns\n",
    "\n",
    "        # Save merged output back to GCS\n",
    "        output_filename = \"merged_output.csv\"\n",
    "        output_blob = bucket.blob(output_filename)\n",
    "        output_blob.upload_from_string(merged_df.to_csv(index=False), content_type=\"text/csv\")\n",
    "\n",
    "        print(f\"Merged file saved at gs://{bucket_name}/{output_filename}\")\n",
    "    else:\n",
    "        print(\"No common columns found, skipping merge.\")\n",
    "else:\n",
    "    print(\"Not enough CSV files to merge.\")\n"
   ]
  },
  {
   "cell_type": "code",
   "execution_count": null,
   "id": "e4df71f2-48c4-4398-a4cf-665890890f47",
   "metadata": {},
   "outputs": [],
   "source": []
  }
 ],
 "metadata": {
  "environment": {
   "kernel": "conda-base-py",
   "name": "workbench-notebooks.m128",
   "type": "gcloud",
   "uri": "us-docker.pkg.dev/deeplearning-platform-release/gcr.io/workbench-notebooks:m128"
  },
  "kernelspec": {
   "display_name": "Python 3 (ipykernel) (Local) (Local)",
   "language": "python",
   "name": "conda-base-py"
  },
  "language_info": {
   "codemirror_mode": {
    "name": "ipython",
    "version": 3
   },
   "file_extension": ".py",
   "mimetype": "text/x-python",
   "name": "python",
   "nbconvert_exporter": "python",
   "pygments_lexer": "ipython3",
   "version": "3.10.16"
  }
 },
 "nbformat": 4,
 "nbformat_minor": 5
}
