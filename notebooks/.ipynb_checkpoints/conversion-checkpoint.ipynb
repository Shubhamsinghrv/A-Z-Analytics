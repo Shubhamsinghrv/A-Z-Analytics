{
 "cells": [
  {
   "cell_type": "code",
   "execution_count": 1,
   "id": "52e2daf9-a157-4a4a-b57f-e97e49ac2a5f",
   "metadata": {
    "tags": []
   },
   "outputs": [],
   "source": [
    "import pandas as pd\n",
    "import json\n",
    "import gcsfs\n",
    "import logging\n",
    "import time\n",
    "from google.cloud import storage\n",
    "from concurrent.futures import ProcessPoolExecutor\n",
    "\n",
    "# ✅ Configure Logging\n",
    "logging.basicConfig(\n",
    "    filename=\"csv_to_parquet.log\",  # Log file\n",
    "    level=logging.INFO,\n",
    "    format=\"%(asctime)s - %(levelname)s - %(message)s\"\n",
    ")\n",
    "\n",
    "# ✅ GCS Paths\n",
    "csv_path = \"gs://demo-shubham/world-happiness-report-2019.csv\"\n",
    "parquet_path = \"gs://demo-shubham/df.parquet\"\n",
    "json_gcs_path = \"gs://demo-shubham/metadata/column_names.json\"\n",
    "\n",
    "# ✅ Initialize GCS clients\n",
    "try:\n",
    "    storage_client = storage.Client()\n",
    "    fs = gcsfs.GCSFileSystem()\n",
    "    logging.info(\"✅ Google Cloud authentication successful!\")\n",
    "except Exception as e:\n",
    "    logging.error(f\"❌ Google Cloud authentication failed: {e}\")\n",
    "    raise\n",
    "\n",
    "# ✅ Function to process each CSV chunk\n",
    "def process_chunk(chunk):\n",
    "    \"\"\"Processes a single chunk of the CSV file.\"\"\"\n",
    "    return chunk  # Modify this if data transformation is required\n",
    "\n",
    "def main():\n",
    "    start_time = time.time()\n",
    "    logging.info(\"🚀 CSV to Parquet conversion started.\")\n",
    "\n",
    "    num_cores = 8  # Utilize all 8 vCPUs\n",
    "    chunksize = 500000  # Adjust based on memory\n",
    "\n",
    "    df_list = []\n",
    "    \n",
    "    try:\n",
    "        with ProcessPoolExecutor(max_workers=num_cores) as executor:\n",
    "            futures = []\n",
    "            \n",
    "            # ✅ Read CSV in chunks and process in parallel\n",
    "            for chunk in pd.read_csv(csv_path, chunksize=chunksize, storage_options={\"token\": None}):\n",
    "                futures.append(executor.submit(process_chunk, chunk))\n",
    "            \n",
    "            # ✅ Collect processed chunks\n",
    "            for future in futures:\n",
    "                df_list.append(future.result())\n",
    "\n",
    "        # ✅ Merge processed chunks\n",
    "        final_df = pd.concat(df_list, ignore_index=True)\n",
    "\n",
    "        # ✅ Save as Parquet\n",
    "        final_df.to_parquet(\n",
    "            parquet_path,\n",
    "            engine=\"pyarrow\",\n",
    "            index=False,\n",
    "            storage_options={\"token\": None}\n",
    "        )\n",
    "        logging.info(\"✅ Parquet file successfully created and saved to GCS.\")\n",
    "\n",
    "        # ✅ Extract column names and store as JSON\n",
    "        column_names = {\"columns\": final_df.columns.tolist()}\n",
    "        json_data = json.dumps(column_names, indent=4)\n",
    "\n",
    "        # ✅ Upload JSON metadata to GCS\n",
    "        with fs.open(json_gcs_path, 'w') as f:\n",
    "            f.write(json_data)\n",
    "\n",
    "        logging.info(f\"✅ Column names JSON successfully uploaded to {json_gcs_path}\")\n",
    "\n",
    "    except Exception as e:\n",
    "        logging.error(f\"❌ An error occurred: {e}\")\n",
    "        raise\n",
    "\n",
    "    end_time = time.time()\n",
    "    logging.info(f\"⏳ Total execution time: {round(end_time - start_time, 2)} seconds\")\n",
    "\n",
    "if __name__ == \"__main__\":\n",
    "    main()\n"
   ]
  },
  {
   "cell_type": "code",
   "execution_count": 2,
   "id": "348812ed-3c9e-41f9-b54c-7134687cde80",
   "metadata": {
    "tags": []
   },
   "outputs": [
    {
     "name": "stdout",
     "output_type": "stream",
     "text": [
      "[NbConvertApp] Converting notebook conversion.ipynb to script\n",
      "[NbConvertApp] Writing 2695 bytes to conversion.py\n"
     ]
    }
   ],
   "source": [
    "!jupyter nbconvert --to script conversion.ipynb"
   ]
  },
  {
   "cell_type": "code",
   "execution_count": null,
   "id": "05afe826-5b7c-4fcf-b531-c45dc8e382b8",
   "metadata": {},
   "outputs": [],
   "source": []
  }
 ],
 "metadata": {
  "environment": {
   "kernel": "conda-base-py",
   "name": "workbench-notebooks.m128",
   "type": "gcloud",
   "uri": "us-docker.pkg.dev/deeplearning-platform-release/gcr.io/workbench-notebooks:m128"
  },
  "kernelspec": {
   "display_name": "Python 3 (ipykernel) (Local)",
   "language": "python",
   "name": "conda-base-py"
  },
  "language_info": {
   "codemirror_mode": {
    "name": "ipython",
    "version": 3
   },
   "file_extension": ".py",
   "mimetype": "text/x-python",
   "name": "python",
   "nbconvert_exporter": "python",
   "pygments_lexer": "ipython3",
   "version": "3.10.16"
  }
 },
 "nbformat": 4,
 "nbformat_minor": 5
}
